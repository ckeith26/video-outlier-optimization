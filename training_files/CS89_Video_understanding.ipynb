{
 "cells": [
  {
   "cell_type": "code",
   "execution_count": null,
   "metadata": {
    "colab": {
     "base_uri": "https://localhost:8080/"
    },
    "id": "IgkAjrrIqci0",
    "outputId": "3078b67f-49d9-4af5-a2e0-69d734ba960a"
   },
   "outputs": [],
   "source": [
    "# from google.colab import drive\n",
    "# drive.mount('/content/drive')"
   ]
  },
  {
   "cell_type": "code",
   "execution_count": 1,
   "metadata": {
    "id": "pBeM8bpOqovJ"
   },
   "outputs": [],
   "source": [
    "import transformers\n",
    "import math\n",
    "import statistics\n",
    "from tqdm import tqdm\n",
    "import torch.nn.functional as F\n",
    "import torch\n",
    "import os\n",
    "import numpy as np\n",
    "import pandas as pd\n",
    "import seaborn as sns\n",
    "from transformers import pipeline\n",
    "from torch.utils.data.dataloader import default_collate\n",
    "# !pip install torchvision\n",
    "from torchvision.models import resnet101\n",
    "from torchvision.models import resnet50"
   ]
  },
  {
   "cell_type": "code",
   "execution_count": null,
   "metadata": {
    "colab": {
     "base_uri": "https://localhost:8080/"
    },
    "id": "3TbSaEVb9mx_",
    "outputId": "ebb71df2-b68e-47c5-814d-a05c24c4dcb7"
   },
   "outputs": [],
   "source": [
    "# !pip install av\n"
   ]
  },
  {
   "cell_type": "code",
   "execution_count": 2,
   "metadata": {
    "id": "WGCyMHsxlBbu"
   },
   "outputs": [],
   "source": [
    "import torch\n",
    "import av\n",
    "import torchvision\n",
    "from torch import nn, optim\n",
    "from torchvision import transforms\n",
    "from torchvision.datasets import UCF101"
   ]
  },
  {
   "cell_type": "code",
   "execution_count": 3,
   "metadata": {
    "id": "1atlL0GalJzU"
   },
   "outputs": [],
   "source": [
    "frames_per_clip = 5\n",
    "step_between_clips = 1\n",
    "batch_size = 128\n",
    "path='./ucfTrainTestlist'"
   ]
  },
  {
   "cell_type": "code",
   "execution_count": 5,
   "metadata": {
    "colab": {
     "base_uri": "https://localhost:8080/"
    },
    "id": "4yoDvuqZByqh",
    "outputId": "73cd1eb7-0fee-4ce5-879b-febbef12e608",
    "scrolled": true
   },
   "outputs": [
    {
     "name": "stderr",
     "output_type": "stream",
     "text": [
      "'pwd' is not recognized as an internal or external command,\n",
      "operable program or batch file.\n"
     ]
    }
   ],
   "source": [
    "# !pwd"
   ]
  },
  {
   "cell_type": "code",
   "execution_count": 6,
   "metadata": {
    "colab": {
     "base_uri": "https://localhost:8080/"
    },
    "id": "UCd9cbEL_CY0",
    "outputId": "25fa93e3-8f66-4f88-9385-ee004006cd18"
   },
   "outputs": [
    {
     "name": "stderr",
     "output_type": "stream",
     "text": [
      "'unrar' is not recognized as an internal or external command,\n",
      "operable program or batch file.\n"
     ]
    }
   ],
   "source": [
    "# !unrar x '/content/drive/My Drive/Video/UCF101.rar'"
   ]
  },
  {
   "cell_type": "code",
   "execution_count": 4,
   "metadata": {
    "id": "U0mwQ6DgBqnW"
   },
   "outputs": [],
   "source": [
    "ucf_data_dir = \"./UCF101/UCF-101/\"\n",
    "ucf_label_dir = path\n",
    "frames_per_clip = 5\n",
    "step_between_clips = 1\n",
    "batch_size = 128"
   ]
  },
  {
   "cell_type": "code",
   "execution_count": 5,
   "metadata": {
    "id": "5r2u2Iw-lMIm"
   },
   "outputs": [],
   "source": [
    "tfs = transforms.Compose([\n",
    "            # TODO: this should be done by a video-level transfrom when PyTorch provides transforms.ToTensor() for video\n",
    "            # scale in [0, 1] of type float\n",
    "            transforms.Lambda(lambda x: x / 255.),\n",
    "            # reshape into (T, C, H, W) for easier convolutions\n",
    "            transforms.Lambda(lambda x: x.permute(0, 3, 1, 2)),\n",
    "            # rescale to the most common size\n",
    "            transforms.Lambda(lambda x: nn.functional.interpolate(x, (240, 320))),\n",
    "])"
   ]
  },
  {
   "cell_type": "code",
   "execution_count": 6,
   "metadata": {
    "id": "051wp921CF89"
   },
   "outputs": [],
   "source": [
    "def custom_collate(batch):\n",
    "    filtered_batch = []\n",
    "    for video, _, label in batch:\n",
    "        filtered_batch.append((video, label))\n",
    "    return torch.utils.data.dataloader.default_collate(filtered_batch)"
   ]
  },
  {
   "cell_type": "code",
   "execution_count": 7,
   "metadata": {
    "colab": {
     "base_uri": "https://localhost:8080/"
    },
    "id": "wZu-2_uRCKV7",
    "outputId": "a23c4fde-7070-4329-f947-9704150728fa"
   },
   "outputs": [
    {
     "name": "stderr",
     "output_type": "stream",
     "text": [
      " 48%|████▊     | 402/833 [01:32<00:56,  7.65it/s]"
     ]
    }
   ],
   "source": [
    "# load train test datasets\n",
    "train_dataset = UCF101(ucf_data_dir, ucf_label_dir, frames_per_clip=frames_per_clip,\n",
    "                       step_between_clips=step_between_clips, train=True, transform=tfs)\n",
    "\n",
    "test_dataset = UCF101(ucf_data_dir, ucf_label_dir, frames_per_clip=frames_per_clip,\n",
    "                      step_between_clips=step_between_clips, train=False, transform=tfs)\n"
   ]
  },
  {
   "cell_type": "code",
   "execution_count": null,
   "metadata": {
    "id": "s3Wbuzt0IcKq"
   },
   "outputs": [],
   "source": [
    "### If you want to use a part of the dataset (for small runtime)\n",
    "train_set, test_set_org = torch.utils.data.random_split(train_dataset,\n",
    "                                                   [100000, 1647933])\n",
    "test_set, test_set2 = torch.utils.data.random_split(test_dataset,\n",
    "                                                   [25000,657084])"
   ]
  },
  {
   "cell_type": "code",
   "execution_count": null,
   "metadata": {
    "id": "TcSjjsLEIgYg"
   },
   "outputs": [],
   "source": [
    "# create train test test loader (allowing batches and other extras)\n",
    "## Use train_dataset and test_dataset insated of train_set and test_set when using the entire training and test sets\n",
    "\n",
    "train_loader = torch.utils.data.DataLoader(train_set, batch_size=batch_size, shuffle=True,\n",
    "                                           collate_fn=custom_collate)\n",
    "test_loader = torch.utils.data.DataLoader(test_set, batch_size=batch_size, shuffle=True,\n",
    "                                          collate_fn=custom_collate)"
   ]
  },
  {
   "cell_type": "code",
   "execution_count": 108,
   "metadata": {
    "colab": {
     "base_uri": "https://localhost:8080/"
    },
    "id": "uuTN__kuCsRf",
    "outputId": "c4172c40-c4d1-42d4-d2a0-088654920647"
   },
   "outputs": [
    {
     "name": "stdout",
     "output_type": "stream",
     "text": [
      "Total number of train samples: 1747933\n",
      "Total number of test samples: 682084\n",
      "Total number of (train) batches: 391\n",
      "Total number of (test) batches: 98\n"
     ]
    }
   ],
   "source": [
    "print(f\"Total number of train samples: {len(train_dataset)}\")\n",
    "print(f\"Total number of test samples: {len(test_dataset)}\")\n",
    "print(f\"Total number of (train) batches: {len(train_loader)}\")\n",
    "print(f\"Total number of (test) batches: {len(test_loader)}\")"
   ]
  },
  {
   "cell_type": "code",
   "execution_count": 109,
   "metadata": {
    "id": "3GnvLKYPQTnF"
   },
   "outputs": [],
   "source": [
    "class HLSTMCNN(nn.Module):\n",
    "    def __init__(self, num_classes=101):\n",
    "        super(HLSTMCNN, self).__init__()\n",
    "        self.resnet = resnet50(pretrained=True)\n",
    "        self.resnet.fc = nn.Sequential(nn.Linear(self.resnet.fc.in_features, 300))\n",
    "        self.lstm = nn.LSTM(input_size=300, hidden_size=256, num_layers=3)\n",
    "        self.fc1 = nn.Linear(256, 128)\n",
    "        self.fc2 = nn.Linear(128, num_classes)\n",
    "\n",
    "    def forward(self, x_3d):\n",
    "        hidden = None\n",
    "\n",
    "        # Iterate over each frame of a video in a video of batch * frames * channels * height * width\n",
    "        for t in range(x_3d.size(1)):\n",
    "            with torch.no_grad():\n",
    "                x = self.resnet(x_3d[:, t])\n",
    "            # Pass latent representation of frame through lstm and update hidden state\n",
    "            out, hidden = self.lstm(x.unsqueeze(0), hidden)\n",
    "\n",
    "        # Get the last hidden state (hidden is a tuple with both hidden and cell state in it)\n",
    "        x = self.fc1(hidden[0][-1])\n",
    "        x = F.relu(x)\n",
    "        x = self.fc2(x)\n",
    "\n",
    "        return x"
   ]
  },
  {
   "cell_type": "code",
   "execution_count": 110,
   "metadata": {},
   "outputs": [
    {
     "name": "stdout",
     "output_type": "stream",
     "text": [
      "2.0.1+cu117\n",
      "True\n",
      "NVIDIA GeForce RTX 3090\n"
     ]
    }
   ],
   "source": [
    "import torch\n",
    "print(torch.__version__)\n",
    "print(torch.cuda.is_available())\n",
    "print(torch.cuda.get_device_name(0))"
   ]
  },
  {
   "cell_type": "code",
   "execution_count": 111,
   "metadata": {
    "colab": {
     "base_uri": "https://localhost:8080/"
    },
    "id": "hY6aMIPFiEvu",
    "outputId": "4d052e7a-d769-4d81-bc23-6ab09bf3f874"
   },
   "outputs": [
    {
     "name": "stderr",
     "output_type": "stream",
     "text": [
      "c:\\Users\\Cameron Keith\\anaconda3\\envs\\base2\\Lib\\site-packages\\torchvision\\models\\_utils.py:208: UserWarning: The parameter 'pretrained' is deprecated since 0.13 and may be removed in the future, please use 'weights' instead.\n",
      "  warnings.warn(\n",
      "c:\\Users\\Cameron Keith\\anaconda3\\envs\\base2\\Lib\\site-packages\\torchvision\\models\\_utils.py:223: UserWarning: Arguments other than a weight enum or `None` for 'weights' are deprecated since 0.13 and may be removed in the future. The current behavior is equivalent to passing `weights=ResNet50_Weights.IMAGENET1K_V1`. You can also use `weights=ResNet50_Weights.DEFAULT` to get the most up-to-date weights.\n",
      "  warnings.warn(msg)\n"
     ]
    }
   ],
   "source": [
    "device = torch.device(\"cuda\")  # use gpu if available\n",
    "target_model = HLSTMCNN().to(device=device)\n",
    "optimiser=torch.optim.SGD(target_model.parameters(),lr=0.01,momentum=0.9)\n",
    "cost = torch.nn.CrossEntropyLoss()"
   ]
  },
  {
   "cell_type": "code",
   "execution_count": 71,
   "metadata": {
    "id": "4LVCyUtLiEyz"
   },
   "outputs": [],
   "source": [
    "import Isolation\n",
    "def target_train(train_loader, target_model, optimiser):\n",
    "   target_model.train()\n",
    "   size = len(train_loader.dataset)\n",
    "   correct = 0\n",
    "   total_loss=[]\n",
    "   total_sample=0\n",
    "   for batch, (X, Y) in enumerate(tqdm(train_loader)):\n",
    "       X, Y = X.to(device=device), Y.to(device=device)\n",
    "       #print(X.shape, Y.shape)\n",
    "       X_0_1=X[:,0, 0, :,:]\n",
    "       X_0_1 = X_0_1.reshape(X.shape[0], X_0_1.shape[1]*X_0_1.shape[2])/255.0\n",
    "       #print(X[0][0])\n",
    "       val_out=5.00/100.00\n",
    "       isf = IsolationForest(contamination=val_out, n_jobs=-1)\n",
    "       X_0_1=X_0_1.cpu().detach().numpy()\n",
    "       _ = isf.fit(X_0_1)\n",
    "\n",
    "\n",
    "       # Predictions\n",
    "       preds = isf.predict(X_0_1)\n",
    "       non_outl=X[preds!=-1]\n",
    "       new_X=non_outl\n",
    "       print(non_outl.shape)\n",
    "       #new_X[batch*batch_size_train + len(non_outl)-1]=new_X\n",
    "       print(f'Batch {batch} >> {len(non_outl)} Non-Outliers detected with contamination {val_out}')\n",
    "       outl_lab = Y[preds==-1]\n",
    "       nonoutl_lab = Y[preds!=-1]\n",
    "       new_Y=nonoutl_lab\n",
    "       total_sample=total_sample+new_X.shape[0]\n",
    "       optimiser.zero_grad()\n",
    "       pred = target_model(new_X)\n",
    "       #print(pred, Y)\n",
    "       #pred = pred.flatten()\n",
    "       loss = cost(pred, new_Y)\n",
    "       loss.backward()\n",
    "       optimiser.step()\n",
    "       _, output = torch.max(pred, 1)\n",
    "       #print(output, Y)\n",
    "       correct+= (output == new_Y).sum().item()\n",
    "       total_loss.append(loss.item())\n",
    "       #batch_count+=batch\n",
    "       #correct += (pred.argmax(1)==Y).type(torch.float).sum().item()\n",
    "\n",
    "\n",
    "   #print(correct, size)\n",
    "   correct /= size\n",
    "   loss= sum(total_loss)/(batch+1)\n",
    "   print(\"Total Sample: \", total_sample)\n",
    "   result_train=100*correct\n",
    "   torch.save(target_model, '/content/drive/My Drive/Video/50k_model.pt')\n",
    "\n",
    "\n",
    "   print(f'\\nTraining Performance:\\nacc: {(100*correct):>0.1f}%, avg loss: {loss:>8f}\\n')\n",
    "  \n",
    "   return loss, result_train\n"
   ]
  },
  {
   "cell_type": "code",
   "execution_count": 60,
   "metadata": {
    "id": "cWHWAiKWsTcT"
   },
   "outputs": [],
   "source": [
    "def target_utility(test_loader, target_model, batch_size = batch_size):\n",
    "    size = len(test_loader.dataset)\n",
    "    target_model.eval()\n",
    "    test_loss, correct = 0, 0\n",
    "    correct = 0\n",
    "    total=0\n",
    "    counter_a=0\n",
    "    #with torch.no_grad():\n",
    "    for batch, (X, Y) in enumerate(tqdm(test_loader)):\n",
    "        X, Y = X.to(device=device), Y.to(device=device)\n",
    "        X.requires_grad = True\n",
    "        pred = target_model(X)\n",
    "        #print(\"Y is: \", Y)\n",
    "        counter_a=counter_a+1\n",
    "        #test_loss += cost(pred, Y).item()\n",
    "        total += Y.size(0)\n",
    "        # Forward pass the data through the model\n",
    "        _, output_res = torch.max(pred, -1)\n",
    "        #print(\"pred is: \",output_res)\n",
    "        correct += ((output_res) == Y).sum().item()\n",
    "\n",
    "\n",
    "    # Calculate final accuracy\n",
    "    final_acc = correct/float(total)\n",
    "    print(f\"Target Model Accuracy = {correct} / {total} = {final_acc}\")\n",
    "\n",
    "    # Return the accuracy\n",
    "    return final_acc\n",
    "\n"
   ]
  },
  {
   "cell_type": "code",
   "execution_count": 88,
   "metadata": {},
   "outputs": [],
   "source": [
    "import smtplib\n",
    "from email.mime.text import MIMEText\n",
    "\n",
    "def send_email(subject, message):\n",
    "    sender_email = 'cameronkeithgolf@gmail.com'\n",
    "    receiver_email = 'cameronkeithgolf@gmail.com'\n",
    "    smtp_server = 'smtp.gmail.com'\n",
    "    smtp_port = 587\n",
    "    smtp_username = 'cameronkeithgolf@gmail.com'\n",
    "    smtp_password = 'lkhauhjcqytyrarr'\n",
    "\n",
    "    msg = MIMEText(message)\n",
    "    msg['From'] = sender_email\n",
    "    msg['Subject'] = subject\n",
    "    msg['To'] = receiver_email\n",
    "\n",
    "    server = smtplib.SMTP(smtp_server, smtp_port)\n",
    "    server.starttls()\n",
    "    server.login(smtp_username, smtp_password)\n",
    "    server.sendmail(sender_email, receiver_email, msg.as_string())\n",
    "    server.quit()\n"
   ]
  },
  {
   "cell_type": "code",
   "execution_count": 91,
   "metadata": {
    "colab": {
     "base_uri": "https://localhost:8080/"
    },
    "id": "BIKbLswRiE1v",
    "outputId": "51064573-e008-4682-ee19-f7c2591d4ad8"
   },
   "outputs": [
    {
     "name": "stderr",
     "output_type": "stream",
     "text": [
      "  0%|          | 0/200 [00:00<?, ?it/s]"
     ]
    },
    {
     "name": "stdout",
     "output_type": "stream",
     "text": [
      "Epoch 1\n",
      "-------------------------------\n",
      "+++++++++Target Training Starting+++++++++\n"
     ]
    },
    {
     "name": "stderr",
     "output_type": "stream",
     "text": [
      "100%|██████████| 8/8 [01:26<00:00, 10.85s/it]\n"
     ]
    },
    {
     "name": "stdout",
     "output_type": "stream",
     "text": [
      "\n",
      "Training Performance:\n",
      "acc: 2.6%, avg loss: 4.571695\n",
      "\n"
     ]
    },
    {
     "name": "stderr",
     "output_type": "stream",
     "text": [
      "100%|██████████| 2/2 [00:09<00:00,  4.88s/it]\n"
     ]
    },
    {
     "name": "stdout",
     "output_type": "stream",
     "text": [
      "Target Model Accuracy = 4 / 200 = 0.02\n"
     ]
    },
    {
     "name": "stderr",
     "output_type": "stream",
     "text": [
      "  0%|          | 1/200 [01:37<5:23:15, 97.47s/it]"
     ]
    },
    {
     "name": "stdout",
     "output_type": "stream",
     "text": [
      "Epoch 2\n",
      "-------------------------------\n",
      "+++++++++Target Training Starting+++++++++\n"
     ]
    },
    {
     "name": "stderr",
     "output_type": "stream",
     "text": [
      "100%|██████████| 8/8 [01:26<00:00, 10.87s/it]\n",
      "  1%|          | 2/200 [03:04<5:01:26, 91.34s/it]"
     ]
    },
    {
     "name": "stdout",
     "output_type": "stream",
     "text": [
      "\n",
      "Training Performance:\n",
      "acc: 3.3%, avg loss: 4.569245\n",
      "\n",
      "Epoch 3\n",
      "-------------------------------\n",
      "+++++++++Target Training Starting+++++++++\n"
     ]
    },
    {
     "name": "stderr",
     "output_type": "stream",
     "text": [
      "100%|██████████| 8/8 [01:26<00:00, 10.86s/it]\n",
      "  2%|▏         | 3/200 [04:31<4:53:26, 89.37s/it]"
     ]
    },
    {
     "name": "stdout",
     "output_type": "stream",
     "text": [
      "\n",
      "Training Performance:\n",
      "acc: 2.9%, avg loss: 4.566061\n",
      "\n",
      "Epoch 4\n",
      "-------------------------------\n",
      "+++++++++Target Training Starting+++++++++\n"
     ]
    },
    {
     "name": "stderr",
     "output_type": "stream",
     "text": [
      "100%|██████████| 8/8 [01:26<00:00, 10.83s/it]\n",
      "  2%|▏         | 4/200 [05:58<4:48:37, 88.36s/it]"
     ]
    },
    {
     "name": "stdout",
     "output_type": "stream",
     "text": [
      "\n",
      "Training Performance:\n",
      "acc: 2.7%, avg loss: 4.563590\n",
      "\n",
      "Epoch 5\n",
      "-------------------------------\n",
      "+++++++++Target Training Starting+++++++++\n"
     ]
    },
    {
     "name": "stderr",
     "output_type": "stream",
     "text": [
      "100%|██████████| 8/8 [01:27<00:00, 10.93s/it]\n",
      "  2%|▎         | 5/200 [07:25<4:46:14, 88.07s/it]"
     ]
    },
    {
     "name": "stdout",
     "output_type": "stream",
     "text": [
      "\n",
      "Training Performance:\n",
      "acc: 2.7%, avg loss: 4.561104\n",
      "\n",
      "Epoch 6\n",
      "-------------------------------\n",
      "+++++++++Target Training Starting+++++++++\n"
     ]
    },
    {
     "name": "stderr",
     "output_type": "stream",
     "text": [
      "100%|██████████| 8/8 [01:26<00:00, 10.85s/it]\n",
      "  3%|▎         | 6/200 [08:52<4:43:30, 87.68s/it]"
     ]
    },
    {
     "name": "stdout",
     "output_type": "stream",
     "text": [
      "\n",
      "Training Performance:\n",
      "acc: 2.7%, avg loss: 4.557922\n",
      "\n",
      "Epoch 7\n",
      "-------------------------------\n",
      "+++++++++Target Training Starting+++++++++\n"
     ]
    },
    {
     "name": "stderr",
     "output_type": "stream",
     "text": [
      "100%|██████████| 8/8 [01:26<00:00, 10.84s/it]\n",
      "  4%|▎         | 7/200 [10:19<4:41:08, 87.40s/it]"
     ]
    },
    {
     "name": "stdout",
     "output_type": "stream",
     "text": [
      "\n",
      "Training Performance:\n",
      "acc: 2.7%, avg loss: 4.555163\n",
      "\n",
      "Epoch 8\n",
      "-------------------------------\n",
      "+++++++++Target Training Starting+++++++++\n"
     ]
    },
    {
     "name": "stderr",
     "output_type": "stream",
     "text": [
      "100%|██████████| 8/8 [01:26<00:00, 10.86s/it]\n",
      "  4%|▍         | 8/200 [11:46<4:39:18, 87.28s/it]"
     ]
    },
    {
     "name": "stdout",
     "output_type": "stream",
     "text": [
      "\n",
      "Training Performance:\n",
      "acc: 2.7%, avg loss: 4.552362\n",
      "\n",
      "Epoch 9\n",
      "-------------------------------\n",
      "+++++++++Target Training Starting+++++++++\n"
     ]
    },
    {
     "name": "stderr",
     "output_type": "stream",
     "text": [
      "100%|██████████| 8/8 [01:27<00:00, 10.90s/it]\n",
      "  4%|▍         | 9/200 [13:14<4:37:52, 87.29s/it]"
     ]
    },
    {
     "name": "stdout",
     "output_type": "stream",
     "text": [
      "\n",
      "Training Performance:\n",
      "acc: 2.7%, avg loss: 4.550441\n",
      "\n",
      "Epoch 10\n",
      "-------------------------------\n",
      "+++++++++Target Training Starting+++++++++\n"
     ]
    },
    {
     "name": "stderr",
     "output_type": "stream",
     "text": [
      "100%|██████████| 8/8 [01:26<00:00, 10.87s/it]\n",
      "  5%|▌         | 10/200 [14:41<4:36:13, 87.23s/it]"
     ]
    },
    {
     "name": "stdout",
     "output_type": "stream",
     "text": [
      "\n",
      "Training Performance:\n",
      "acc: 2.7%, avg loss: 4.546522\n",
      "\n",
      "Epoch 11\n",
      "-------------------------------\n",
      "+++++++++Target Training Starting+++++++++\n"
     ]
    },
    {
     "name": "stderr",
     "output_type": "stream",
     "text": [
      "100%|██████████| 8/8 [01:27<00:00, 10.89s/it]\n"
     ]
    },
    {
     "name": "stdout",
     "output_type": "stream",
     "text": [
      "\n",
      "Training Performance:\n",
      "acc: 2.7%, avg loss: 4.544280\n",
      "\n"
     ]
    },
    {
     "name": "stderr",
     "output_type": "stream",
     "text": [
      "100%|██████████| 2/2 [00:09<00:00,  4.86s/it]\n"
     ]
    },
    {
     "name": "stdout",
     "output_type": "stream",
     "text": [
      "Target Model Accuracy = 10 / 200 = 0.05\n"
     ]
    },
    {
     "name": "stderr",
     "output_type": "stream",
     "text": [
      "  6%|▌         | 11/200 [16:18<4:44:56, 90.46s/it]"
     ]
    },
    {
     "name": "stdout",
     "output_type": "stream",
     "text": [
      "Epoch 12\n",
      "-------------------------------\n",
      "+++++++++Target Training Starting+++++++++\n"
     ]
    },
    {
     "name": "stderr",
     "output_type": "stream",
     "text": [
      "100%|██████████| 8/8 [01:26<00:00, 10.87s/it]\n",
      "  6%|▌         | 12/200 [17:45<4:40:13, 89.43s/it]"
     ]
    },
    {
     "name": "stdout",
     "output_type": "stream",
     "text": [
      "\n",
      "Training Performance:\n",
      "acc: 2.7%, avg loss: 4.541322\n",
      "\n",
      "Epoch 13\n",
      "-------------------------------\n",
      "+++++++++Target Training Starting+++++++++\n"
     ]
    },
    {
     "name": "stderr",
     "output_type": "stream",
     "text": [
      "100%|██████████| 8/8 [01:26<00:00, 10.86s/it]\n",
      "  6%|▋         | 13/200 [19:13<4:36:28, 88.71s/it]"
     ]
    },
    {
     "name": "stdout",
     "output_type": "stream",
     "text": [
      "\n",
      "Training Performance:\n",
      "acc: 2.7%, avg loss: 4.538074\n",
      "\n",
      "Epoch 14\n",
      "-------------------------------\n",
      "+++++++++Target Training Starting+++++++++\n"
     ]
    },
    {
     "name": "stderr",
     "output_type": "stream",
     "text": [
      "100%|██████████| 8/8 [01:26<00:00, 10.86s/it]\n",
      "  7%|▋         | 14/200 [20:39<4:33:22, 88.18s/it]"
     ]
    },
    {
     "name": "stdout",
     "output_type": "stream",
     "text": [
      "\n",
      "Training Performance:\n",
      "acc: 2.7%, avg loss: 4.535595\n",
      "\n",
      "Epoch 15\n",
      "-------------------------------\n",
      "+++++++++Target Training Starting+++++++++\n"
     ]
    },
    {
     "name": "stderr",
     "output_type": "stream",
     "text": [
      "100%|██████████| 8/8 [01:26<00:00, 10.85s/it]\n",
      "  8%|▊         | 15/200 [22:06<4:30:45, 87.81s/it]"
     ]
    },
    {
     "name": "stdout",
     "output_type": "stream",
     "text": [
      "\n",
      "Training Performance:\n",
      "acc: 2.7%, avg loss: 4.533517\n",
      "\n",
      "Epoch 16\n",
      "-------------------------------\n",
      "+++++++++Target Training Starting+++++++++\n"
     ]
    },
    {
     "name": "stderr",
     "output_type": "stream",
     "text": [
      "100%|██████████| 8/8 [01:26<00:00, 10.85s/it]\n",
      "  8%|▊         | 16/200 [23:33<4:28:30, 87.56s/it]"
     ]
    },
    {
     "name": "stdout",
     "output_type": "stream",
     "text": [
      "\n",
      "Training Performance:\n",
      "acc: 2.7%, avg loss: 4.529359\n",
      "\n",
      "Epoch 17\n",
      "-------------------------------\n",
      "+++++++++Target Training Starting+++++++++\n"
     ]
    },
    {
     "name": "stderr",
     "output_type": "stream",
     "text": [
      "100%|██████████| 8/8 [01:26<00:00, 10.84s/it]\n",
      "  8%|▊         | 17/200 [25:00<4:26:25, 87.35s/it]"
     ]
    },
    {
     "name": "stdout",
     "output_type": "stream",
     "text": [
      "\n",
      "Training Performance:\n",
      "acc: 2.7%, avg loss: 4.527538\n",
      "\n",
      "Epoch 18\n",
      "-------------------------------\n",
      "+++++++++Target Training Starting+++++++++\n"
     ]
    },
    {
     "name": "stderr",
     "output_type": "stream",
     "text": [
      "100%|██████████| 8/8 [01:26<00:00, 10.86s/it]\n",
      "  9%|▉         | 18/200 [26:27<4:24:41, 87.26s/it]"
     ]
    },
    {
     "name": "stdout",
     "output_type": "stream",
     "text": [
      "\n",
      "Training Performance:\n",
      "acc: 2.7%, avg loss: 4.524644\n",
      "\n",
      "Epoch 19\n",
      "-------------------------------\n",
      "+++++++++Target Training Starting+++++++++\n"
     ]
    },
    {
     "name": "stderr",
     "output_type": "stream",
     "text": [
      "100%|██████████| 8/8 [01:27<00:00, 10.88s/it]\n",
      " 10%|▉         | 19/200 [27:54<4:23:09, 87.24s/it]"
     ]
    },
    {
     "name": "stdout",
     "output_type": "stream",
     "text": [
      "\n",
      "Training Performance:\n",
      "acc: 2.7%, avg loss: 4.521445\n",
      "\n",
      "Epoch 20\n",
      "-------------------------------\n",
      "+++++++++Target Training Starting+++++++++\n"
     ]
    },
    {
     "name": "stderr",
     "output_type": "stream",
     "text": [
      "100%|██████████| 8/8 [01:26<00:00, 10.84s/it]\n",
      " 10%|█         | 20/200 [29:21<4:21:23, 87.13s/it]"
     ]
    },
    {
     "name": "stdout",
     "output_type": "stream",
     "text": [
      "\n",
      "Training Performance:\n",
      "acc: 2.7%, avg loss: 4.520275\n",
      "\n",
      "Epoch 21\n",
      "-------------------------------\n",
      "+++++++++Target Training Starting+++++++++\n"
     ]
    },
    {
     "name": "stderr",
     "output_type": "stream",
     "text": [
      "100%|██████████| 8/8 [01:26<00:00, 10.84s/it]\n"
     ]
    },
    {
     "name": "stdout",
     "output_type": "stream",
     "text": [
      "\n",
      "Training Performance:\n",
      "acc: 2.7%, avg loss: 4.516239\n",
      "\n"
     ]
    },
    {
     "name": "stderr",
     "output_type": "stream",
     "text": [
      "100%|██████████| 2/2 [00:09<00:00,  5.00s/it]\n"
     ]
    },
    {
     "name": "stdout",
     "output_type": "stream",
     "text": [
      "Target Model Accuracy = 10 / 200 = 0.05\n"
     ]
    },
    {
     "name": "stderr",
     "output_type": "stream",
     "text": [
      " 10%|█         | 21/200 [30:59<4:29:24, 90.30s/it]"
     ]
    },
    {
     "name": "stdout",
     "output_type": "stream",
     "text": [
      "Epoch 22\n",
      "-------------------------------\n",
      "+++++++++Target Training Starting+++++++++\n"
     ]
    },
    {
     "name": "stderr",
     "output_type": "stream",
     "text": [
      "100%|██████████| 8/8 [01:27<00:00, 10.88s/it]\n",
      " 11%|█         | 22/200 [32:26<4:25:04, 89.35s/it]"
     ]
    },
    {
     "name": "stdout",
     "output_type": "stream",
     "text": [
      "\n",
      "Training Performance:\n",
      "acc: 2.7%, avg loss: 4.514626\n",
      "\n",
      "Epoch 23\n",
      "-------------------------------\n",
      "+++++++++Target Training Starting+++++++++\n"
     ]
    },
    {
     "name": "stderr",
     "output_type": "stream",
     "text": [
      "100%|██████████| 8/8 [01:27<00:00, 10.88s/it]\n",
      " 12%|█▏        | 23/200 [33:53<4:21:37, 88.69s/it]"
     ]
    },
    {
     "name": "stdout",
     "output_type": "stream",
     "text": [
      "\n",
      "Training Performance:\n",
      "acc: 2.7%, avg loss: 4.511973\n",
      "\n",
      "Epoch 24\n",
      "-------------------------------\n",
      "+++++++++Target Training Starting+++++++++\n"
     ]
    },
    {
     "name": "stderr",
     "output_type": "stream",
     "text": [
      "100%|██████████| 8/8 [01:26<00:00, 10.86s/it]\n",
      " 12%|█▏        | 24/200 [35:20<4:18:40, 88.19s/it]"
     ]
    },
    {
     "name": "stdout",
     "output_type": "stream",
     "text": [
      "\n",
      "Training Performance:\n",
      "acc: 2.7%, avg loss: 4.510278\n",
      "\n",
      "Epoch 25\n",
      "-------------------------------\n",
      "+++++++++Target Training Starting+++++++++\n"
     ]
    },
    {
     "name": "stderr",
     "output_type": "stream",
     "text": [
      "100%|██████████| 8/8 [01:26<00:00, 10.86s/it]\n",
      " 12%|█▎        | 25/200 [36:47<4:16:12, 87.84s/it]"
     ]
    },
    {
     "name": "stdout",
     "output_type": "stream",
     "text": [
      "\n",
      "Training Performance:\n",
      "acc: 2.7%, avg loss: 4.505564\n",
      "\n",
      "Epoch 26\n",
      "-------------------------------\n",
      "+++++++++Target Training Starting+++++++++\n"
     ]
    },
    {
     "name": "stderr",
     "output_type": "stream",
     "text": [
      "100%|██████████| 8/8 [01:26<00:00, 10.86s/it]\n",
      " 13%|█▎        | 26/200 [38:14<4:14:00, 87.59s/it]"
     ]
    },
    {
     "name": "stdout",
     "output_type": "stream",
     "text": [
      "\n",
      "Training Performance:\n",
      "acc: 2.7%, avg loss: 4.503547\n",
      "\n",
      "Epoch 27\n",
      "-------------------------------\n",
      "+++++++++Target Training Starting+++++++++\n"
     ]
    },
    {
     "name": "stderr",
     "output_type": "stream",
     "text": [
      "100%|██████████| 8/8 [01:27<00:00, 10.91s/it]\n",
      " 14%|█▎        | 27/200 [39:42<4:12:22, 87.53s/it]"
     ]
    },
    {
     "name": "stdout",
     "output_type": "stream",
     "text": [
      "\n",
      "Training Performance:\n",
      "acc: 2.7%, avg loss: 4.502181\n",
      "\n",
      "Epoch 28\n",
      "-------------------------------\n",
      "+++++++++Target Training Starting+++++++++\n"
     ]
    },
    {
     "name": "stderr",
     "output_type": "stream",
     "text": [
      "100%|██████████| 8/8 [01:26<00:00, 10.80s/it]\n",
      " 14%|█▍        | 28/200 [41:08<4:10:04, 87.23s/it]"
     ]
    },
    {
     "name": "stdout",
     "output_type": "stream",
     "text": [
      "\n",
      "Training Performance:\n",
      "acc: 2.7%, avg loss: 4.500379\n",
      "\n",
      "Epoch 29\n",
      "-------------------------------\n",
      "+++++++++Target Training Starting+++++++++\n"
     ]
    },
    {
     "name": "stderr",
     "output_type": "stream",
     "text": [
      "100%|██████████| 8/8 [01:27<00:00, 10.89s/it]\n",
      " 14%|█▍        | 29/200 [42:36<4:08:39, 87.25s/it]"
     ]
    },
    {
     "name": "stdout",
     "output_type": "stream",
     "text": [
      "\n",
      "Training Performance:\n",
      "acc: 2.7%, avg loss: 4.497482\n",
      "\n",
      "Epoch 30\n",
      "-------------------------------\n",
      "+++++++++Target Training Starting+++++++++\n"
     ]
    },
    {
     "name": "stderr",
     "output_type": "stream",
     "text": [
      "100%|██████████| 8/8 [01:27<00:00, 10.89s/it]\n",
      " 15%|█▌        | 30/200 [44:03<4:07:14, 87.26s/it]"
     ]
    },
    {
     "name": "stdout",
     "output_type": "stream",
     "text": [
      "\n",
      "Training Performance:\n",
      "acc: 2.7%, avg loss: 4.496187\n",
      "\n",
      "Epoch 31\n",
      "-------------------------------\n",
      "+++++++++Target Training Starting+++++++++\n"
     ]
    },
    {
     "name": "stderr",
     "output_type": "stream",
     "text": [
      "100%|██████████| 8/8 [01:26<00:00, 10.86s/it]\n"
     ]
    },
    {
     "name": "stdout",
     "output_type": "stream",
     "text": [
      "\n",
      "Training Performance:\n",
      "acc: 2.7%, avg loss: 4.494112\n",
      "\n"
     ]
    },
    {
     "name": "stderr",
     "output_type": "stream",
     "text": [
      "100%|██████████| 2/2 [00:09<00:00,  4.89s/it]\n"
     ]
    },
    {
     "name": "stdout",
     "output_type": "stream",
     "text": [
      "Target Model Accuracy = 10 / 200 = 0.05\n"
     ]
    },
    {
     "name": "stderr",
     "output_type": "stream",
     "text": [
      " 16%|█▌        | 31/200 [45:41<4:14:38, 90.41s/it]"
     ]
    },
    {
     "name": "stdout",
     "output_type": "stream",
     "text": [
      "Epoch 32\n",
      "-------------------------------\n",
      "+++++++++Target Training Starting+++++++++\n"
     ]
    },
    {
     "name": "stderr",
     "output_type": "stream",
     "text": [
      "100%|██████████| 8/8 [01:26<00:00, 10.85s/it]\n",
      " 16%|█▌        | 32/200 [47:08<4:10:14, 89.37s/it]"
     ]
    },
    {
     "name": "stdout",
     "output_type": "stream",
     "text": [
      "\n",
      "Training Performance:\n",
      "acc: 2.7%, avg loss: 4.493377\n",
      "\n",
      "Epoch 33\n",
      "-------------------------------\n",
      "+++++++++Target Training Starting+++++++++\n"
     ]
    },
    {
     "name": "stderr",
     "output_type": "stream",
     "text": [
      "100%|██████████| 8/8 [01:26<00:00, 10.86s/it]\n",
      " 16%|█▋        | 33/200 [48:35<4:06:45, 88.65s/it]"
     ]
    },
    {
     "name": "stdout",
     "output_type": "stream",
     "text": [
      "\n",
      "Training Performance:\n",
      "acc: 2.7%, avg loss: 4.490891\n",
      "\n",
      "Epoch 34\n",
      "-------------------------------\n",
      "+++++++++Target Training Starting+++++++++\n"
     ]
    },
    {
     "name": "stderr",
     "output_type": "stream",
     "text": [
      "100%|██████████| 8/8 [01:27<00:00, 10.88s/it]\n",
      " 17%|█▋        | 34/200 [50:02<4:04:01, 88.20s/it]"
     ]
    },
    {
     "name": "stdout",
     "output_type": "stream",
     "text": [
      "\n",
      "Training Performance:\n",
      "acc: 2.7%, avg loss: 4.488221\n",
      "\n",
      "Epoch 35\n",
      "-------------------------------\n",
      "+++++++++Target Training Starting+++++++++\n"
     ]
    },
    {
     "name": "stderr",
     "output_type": "stream",
     "text": [
      "100%|██████████| 8/8 [01:27<00:00, 10.88s/it]\n",
      " 18%|█▊        | 35/200 [51:29<4:01:42, 87.89s/it]"
     ]
    },
    {
     "name": "stdout",
     "output_type": "stream",
     "text": [
      "\n",
      "Training Performance:\n",
      "acc: 2.7%, avg loss: 4.487276\n",
      "\n",
      "Epoch 36\n",
      "-------------------------------\n",
      "+++++++++Target Training Starting+++++++++\n"
     ]
    },
    {
     "name": "stderr",
     "output_type": "stream",
     "text": [
      "100%|██████████| 8/8 [01:26<00:00, 10.82s/it]\n",
      " 18%|█▊        | 36/200 [52:56<3:59:13, 87.52s/it]"
     ]
    },
    {
     "name": "stdout",
     "output_type": "stream",
     "text": [
      "\n",
      "Training Performance:\n",
      "acc: 2.7%, avg loss: 4.486601\n",
      "\n",
      "Epoch 37\n",
      "-------------------------------\n",
      "+++++++++Target Training Starting+++++++++\n"
     ]
    },
    {
     "name": "stderr",
     "output_type": "stream",
     "text": [
      "100%|██████████| 8/8 [01:26<00:00, 10.86s/it]\n",
      " 18%|█▊        | 37/200 [54:23<3:57:21, 87.37s/it]"
     ]
    },
    {
     "name": "stdout",
     "output_type": "stream",
     "text": [
      "\n",
      "Training Performance:\n",
      "acc: 2.7%, avg loss: 4.484793\n",
      "\n",
      "Epoch 38\n",
      "-------------------------------\n",
      "+++++++++Target Training Starting+++++++++\n"
     ]
    },
    {
     "name": "stderr",
     "output_type": "stream",
     "text": [
      "100%|██████████| 8/8 [01:26<00:00, 10.87s/it]\n",
      " 19%|█▉        | 38/200 [55:50<3:55:41, 87.29s/it]"
     ]
    },
    {
     "name": "stdout",
     "output_type": "stream",
     "text": [
      "\n",
      "Training Performance:\n",
      "acc: 2.7%, avg loss: 4.484246\n",
      "\n",
      "Epoch 39\n",
      "-------------------------------\n",
      "+++++++++Target Training Starting+++++++++\n"
     ]
    },
    {
     "name": "stderr",
     "output_type": "stream",
     "text": [
      "100%|██████████| 8/8 [01:26<00:00, 10.85s/it]\n",
      " 20%|█▉        | 39/200 [57:17<3:53:58, 87.19s/it]"
     ]
    },
    {
     "name": "stdout",
     "output_type": "stream",
     "text": [
      "\n",
      "Training Performance:\n",
      "acc: 2.7%, avg loss: 4.484247\n",
      "\n",
      "Epoch 40\n",
      "-------------------------------\n",
      "+++++++++Target Training Starting+++++++++\n"
     ]
    },
    {
     "name": "stderr",
     "output_type": "stream",
     "text": [
      "100%|██████████| 8/8 [01:26<00:00, 10.82s/it]\n",
      " 20%|██        | 40/200 [58:43<3:52:08, 87.05s/it]"
     ]
    },
    {
     "name": "stdout",
     "output_type": "stream",
     "text": [
      "\n",
      "Training Performance:\n",
      "acc: 2.7%, avg loss: 4.480772\n",
      "\n",
      "Epoch 41\n",
      "-------------------------------\n",
      "+++++++++Target Training Starting+++++++++\n"
     ]
    },
    {
     "name": "stderr",
     "output_type": "stream",
     "text": [
      "100%|██████████| 8/8 [01:27<00:00, 10.88s/it]\n"
     ]
    },
    {
     "name": "stdout",
     "output_type": "stream",
     "text": [
      "\n",
      "Training Performance:\n",
      "acc: 2.7%, avg loss: 4.483494\n",
      "\n"
     ]
    },
    {
     "name": "stderr",
     "output_type": "stream",
     "text": [
      "100%|██████████| 2/2 [00:09<00:00,  4.94s/it]\n"
     ]
    },
    {
     "name": "stdout",
     "output_type": "stream",
     "text": [
      "Target Model Accuracy = 10 / 200 = 0.05\n"
     ]
    },
    {
     "name": "stderr",
     "output_type": "stream",
     "text": [
      " 20%|██        | 41/200 [1:00:22<3:59:33, 90.40s/it]"
     ]
    },
    {
     "name": "stdout",
     "output_type": "stream",
     "text": [
      "Epoch 42\n",
      "-------------------------------\n",
      "+++++++++Target Training Starting+++++++++\n"
     ]
    },
    {
     "name": "stderr",
     "output_type": "stream",
     "text": [
      "100%|██████████| 8/8 [01:27<00:00, 10.89s/it]\n",
      " 21%|██        | 42/200 [1:01:49<3:55:33, 89.45s/it]"
     ]
    },
    {
     "name": "stdout",
     "output_type": "stream",
     "text": [
      "\n",
      "Training Performance:\n",
      "acc: 2.7%, avg loss: 4.480247\n",
      "\n",
      "Epoch 43\n",
      "-------------------------------\n",
      "+++++++++Target Training Starting+++++++++\n"
     ]
    },
    {
     "name": "stderr",
     "output_type": "stream",
     "text": [
      "100%|██████████| 8/8 [01:26<00:00, 10.87s/it]\n",
      " 22%|██▏       | 43/200 [1:03:16<3:52:12, 88.74s/it]"
     ]
    },
    {
     "name": "stdout",
     "output_type": "stream",
     "text": [
      "\n",
      "Training Performance:\n",
      "acc: 2.7%, avg loss: 4.480718\n",
      "\n",
      "Epoch 44\n",
      "-------------------------------\n",
      "+++++++++Target Training Starting+++++++++\n"
     ]
    },
    {
     "name": "stderr",
     "output_type": "stream",
     "text": [
      "100%|██████████| 8/8 [01:26<00:00, 10.85s/it]\n",
      " 22%|██▏       | 44/200 [1:04:43<3:49:19, 88.20s/it]"
     ]
    },
    {
     "name": "stdout",
     "output_type": "stream",
     "text": [
      "\n",
      "Training Performance:\n",
      "acc: 2.7%, avg loss: 4.479535\n",
      "\n",
      "Epoch 45\n",
      "-------------------------------\n",
      "+++++++++Target Training Starting+++++++++\n"
     ]
    },
    {
     "name": "stderr",
     "output_type": "stream",
     "text": [
      "100%|██████████| 8/8 [01:26<00:00, 10.85s/it]\n",
      " 22%|██▎       | 45/200 [1:06:10<3:46:53, 87.83s/it]"
     ]
    },
    {
     "name": "stdout",
     "output_type": "stream",
     "text": [
      "\n",
      "Training Performance:\n",
      "acc: 2.7%, avg loss: 4.478285\n",
      "\n",
      "Epoch 46\n",
      "-------------------------------\n",
      "+++++++++Target Training Starting+++++++++\n"
     ]
    },
    {
     "name": "stderr",
     "output_type": "stream",
     "text": [
      "100%|██████████| 8/8 [01:27<00:00, 10.89s/it]\n",
      " 23%|██▎       | 46/200 [1:07:37<3:45:00, 87.67s/it]"
     ]
    },
    {
     "name": "stdout",
     "output_type": "stream",
     "text": [
      "\n",
      "Training Performance:\n",
      "acc: 2.7%, avg loss: 4.479849\n",
      "\n",
      "Epoch 47\n",
      "-------------------------------\n",
      "+++++++++Target Training Starting+++++++++\n"
     ]
    },
    {
     "name": "stderr",
     "output_type": "stream",
     "text": [
      "100%|██████████| 8/8 [01:26<00:00, 10.84s/it]\n",
      " 24%|██▎       | 47/200 [1:09:04<3:42:54, 87.42s/it]"
     ]
    },
    {
     "name": "stdout",
     "output_type": "stream",
     "text": [
      "\n",
      "Training Performance:\n",
      "acc: 2.7%, avg loss: 4.476714\n",
      "\n",
      "Epoch 48\n",
      "-------------------------------\n",
      "+++++++++Target Training Starting+++++++++\n"
     ]
    },
    {
     "name": "stderr",
     "output_type": "stream",
     "text": [
      "100%|██████████| 8/8 [01:26<00:00, 10.87s/it]\n",
      " 24%|██▍       | 48/200 [1:10:31<3:41:13, 87.32s/it]"
     ]
    },
    {
     "name": "stdout",
     "output_type": "stream",
     "text": [
      "\n",
      "Training Performance:\n",
      "acc: 2.7%, avg loss: 4.477981\n",
      "\n",
      "Epoch 49\n",
      "-------------------------------\n",
      "+++++++++Target Training Starting+++++++++\n"
     ]
    },
    {
     "name": "stderr",
     "output_type": "stream",
     "text": [
      "100%|██████████| 8/8 [01:26<00:00, 10.87s/it]\n",
      " 24%|██▍       | 49/200 [1:11:58<3:39:36, 87.26s/it]"
     ]
    },
    {
     "name": "stdout",
     "output_type": "stream",
     "text": [
      "\n",
      "Training Performance:\n",
      "acc: 2.7%, avg loss: 4.476030\n",
      "\n",
      "Epoch 50\n",
      "-------------------------------\n",
      "+++++++++Target Training Starting+++++++++\n"
     ]
    },
    {
     "name": "stderr",
     "output_type": "stream",
     "text": [
      "100%|██████████| 8/8 [01:27<00:00, 10.90s/it]\n",
      " 25%|██▌       | 50/200 [1:13:25<3:38:11, 87.27s/it]"
     ]
    },
    {
     "name": "stdout",
     "output_type": "stream",
     "text": [
      "\n",
      "Training Performance:\n",
      "acc: 2.7%, avg loss: 4.475843\n",
      "\n",
      "Epoch 51\n",
      "-------------------------------\n",
      "+++++++++Target Training Starting+++++++++\n"
     ]
    },
    {
     "name": "stderr",
     "output_type": "stream",
     "text": [
      "100%|██████████| 8/8 [01:26<00:00, 10.85s/it]\n"
     ]
    },
    {
     "name": "stdout",
     "output_type": "stream",
     "text": [
      "\n",
      "Training Performance:\n",
      "acc: 2.7%, avg loss: 4.476061\n",
      "\n"
     ]
    },
    {
     "name": "stderr",
     "output_type": "stream",
     "text": [
      "100%|██████████| 2/2 [00:09<00:00,  4.99s/it]\n"
     ]
    },
    {
     "name": "stdout",
     "output_type": "stream",
     "text": [
      "Target Model Accuracy = 10 / 200 = 0.05\n"
     ]
    },
    {
     "name": "stderr",
     "output_type": "stream",
     "text": [
      " 26%|██▌       | 51/200 [1:15:03<3:44:34, 90.44s/it]"
     ]
    },
    {
     "name": "stdout",
     "output_type": "stream",
     "text": [
      "Epoch 52\n",
      "-------------------------------\n",
      "+++++++++Target Training Starting+++++++++\n"
     ]
    },
    {
     "name": "stderr",
     "output_type": "stream",
     "text": [
      "100%|██████████| 8/8 [01:26<00:00, 10.84s/it]\n",
      " 26%|██▌       | 52/200 [1:16:30<3:40:27, 89.37s/it]"
     ]
    },
    {
     "name": "stdout",
     "output_type": "stream",
     "text": [
      "\n",
      "Training Performance:\n",
      "acc: 2.7%, avg loss: 4.477342\n",
      "\n",
      "Epoch 53\n",
      "-------------------------------\n",
      "+++++++++Target Training Starting+++++++++\n"
     ]
    },
    {
     "name": "stderr",
     "output_type": "stream",
     "text": [
      "100%|██████████| 8/8 [01:26<00:00, 10.85s/it]\n",
      " 26%|██▋       | 53/200 [1:17:57<3:37:11, 88.65s/it]"
     ]
    },
    {
     "name": "stdout",
     "output_type": "stream",
     "text": [
      "\n",
      "Training Performance:\n",
      "acc: 2.7%, avg loss: 4.474903\n",
      "\n",
      "Epoch 54\n",
      "-------------------------------\n",
      "+++++++++Target Training Starting+++++++++\n"
     ]
    },
    {
     "name": "stderr",
     "output_type": "stream",
     "text": [
      "100%|██████████| 8/8 [01:26<00:00, 10.87s/it]\n",
      " 27%|██▋       | 54/200 [1:19:24<3:34:34, 88.18s/it]"
     ]
    },
    {
     "name": "stdout",
     "output_type": "stream",
     "text": [
      "\n",
      "Training Performance:\n",
      "acc: 2.7%, avg loss: 4.475506\n",
      "\n",
      "Epoch 55\n",
      "-------------------------------\n",
      "+++++++++Target Training Starting+++++++++\n"
     ]
    },
    {
     "name": "stderr",
     "output_type": "stream",
     "text": [
      "100%|██████████| 8/8 [01:26<00:00, 10.86s/it]\n",
      " 28%|██▊       | 55/200 [1:20:51<3:32:16, 87.84s/it]"
     ]
    },
    {
     "name": "stdout",
     "output_type": "stream",
     "text": [
      "\n",
      "Training Performance:\n",
      "acc: 2.7%, avg loss: 4.472904\n",
      "\n",
      "Epoch 56\n",
      "-------------------------------\n",
      "+++++++++Target Training Starting+++++++++\n"
     ]
    },
    {
     "name": "stderr",
     "output_type": "stream",
     "text": [
      "100%|██████████| 8/8 [01:27<00:00, 10.88s/it]\n",
      " 28%|██▊       | 56/200 [1:22:18<3:30:18, 87.63s/it]"
     ]
    },
    {
     "name": "stdout",
     "output_type": "stream",
     "text": [
      "\n",
      "Training Performance:\n",
      "acc: 2.7%, avg loss: 4.474708\n",
      "\n",
      "Epoch 57\n",
      "-------------------------------\n",
      "+++++++++Target Training Starting+++++++++\n"
     ]
    },
    {
     "name": "stderr",
     "output_type": "stream",
     "text": [
      "100%|██████████| 8/8 [01:26<00:00, 10.87s/it]\n",
      " 28%|██▊       | 57/200 [1:23:45<3:28:26, 87.46s/it]"
     ]
    },
    {
     "name": "stdout",
     "output_type": "stream",
     "text": [
      "\n",
      "Training Performance:\n",
      "acc: 2.7%, avg loss: 4.474252\n",
      "\n",
      "Epoch 58\n",
      "-------------------------------\n",
      "+++++++++Target Training Starting+++++++++\n"
     ]
    },
    {
     "name": "stderr",
     "output_type": "stream",
     "text": [
      "100%|██████████| 8/8 [01:26<00:00, 10.87s/it]\n",
      " 29%|██▉       | 58/200 [1:25:13<3:26:42, 87.34s/it]"
     ]
    },
    {
     "name": "stdout",
     "output_type": "stream",
     "text": [
      "\n",
      "Training Performance:\n",
      "acc: 2.7%, avg loss: 4.474471\n",
      "\n",
      "Epoch 59\n",
      "-------------------------------\n",
      "+++++++++Target Training Starting+++++++++\n"
     ]
    },
    {
     "name": "stderr",
     "output_type": "stream",
     "text": [
      "100%|██████████| 8/8 [01:26<00:00, 10.77s/it]\n",
      " 30%|██▉       | 59/200 [1:26:39<3:24:30, 87.03s/it]"
     ]
    },
    {
     "name": "stdout",
     "output_type": "stream",
     "text": [
      "\n",
      "Training Performance:\n",
      "acc: 2.7%, avg loss: 4.473752\n",
      "\n",
      "Epoch 60\n",
      "-------------------------------\n",
      "+++++++++Target Training Starting+++++++++\n"
     ]
    },
    {
     "name": "stderr",
     "output_type": "stream",
     "text": [
      " 12%|█▎        | 1/8 [00:21<02:33, 21.88s/it]\n",
      " 30%|██▉       | 59/200 [1:27:01<3:27:57, 88.50s/it]\n"
     ]
    },
    {
     "ename": "KeyboardInterrupt",
     "evalue": "",
     "output_type": "error",
     "traceback": [
      "\u001b[1;31m---------------------------------------------------------------------------\u001b[0m",
      "\u001b[1;31mKeyboardInterrupt\u001b[0m                         Traceback (most recent call last)",
      "Cell \u001b[1;32mIn[91], line 6\u001b[0m\n\u001b[0;32m      4\u001b[0m \u001b[38;5;28mprint\u001b[39m(\u001b[38;5;124mf\u001b[39m\u001b[38;5;124m'\u001b[39m\u001b[38;5;124mEpoch \u001b[39m\u001b[38;5;132;01m{\u001b[39;00mt\u001b[38;5;241m+\u001b[39m\u001b[38;5;241m1\u001b[39m\u001b[38;5;132;01m}\u001b[39;00m\u001b[38;5;130;01m\\n\u001b[39;00m\u001b[38;5;124m-------------------------------\u001b[39m\u001b[38;5;124m'\u001b[39m)\n\u001b[0;32m      5\u001b[0m \u001b[38;5;28mprint\u001b[39m(\u001b[38;5;124m\"\u001b[39m\u001b[38;5;124m+++++++++Target Training Starting+++++++++\u001b[39m\u001b[38;5;124m\"\u001b[39m)\n\u001b[1;32m----> 6\u001b[0m tr_loss, result_train\u001b[38;5;241m=\u001b[39mtarget_train(train_loader, target_model, optimiser)\n\u001b[0;32m      7\u001b[0m loss_train_tr\u001b[38;5;241m.\u001b[39mappend(tr_loss)\n\u001b[0;32m      8\u001b[0m \u001b[38;5;66;03m# print('Test Accuracy: ', target_utility(test_loader, target_model, batch_size = batch_size))\u001b[39;00m\n",
      "Cell \u001b[1;32mIn[71], line 18\u001b[0m, in \u001b[0;36mtarget_train\u001b[1;34m(train_loader, target_model, optimiser)\u001b[0m\n\u001b[0;32m     16\u001b[0m     _, output \u001b[38;5;241m=\u001b[39m torch\u001b[38;5;241m.\u001b[39mmax(pred, \u001b[38;5;241m1\u001b[39m)\n\u001b[0;32m     17\u001b[0m     \u001b[38;5;66;03m#print(output, Y)\u001b[39;00m\n\u001b[1;32m---> 18\u001b[0m     correct\u001b[38;5;241m+\u001b[39m\u001b[38;5;241m=\u001b[39m (output \u001b[38;5;241m==\u001b[39m Y)\u001b[38;5;241m.\u001b[39msum()\u001b[38;5;241m.\u001b[39mitem()\n\u001b[0;32m     19\u001b[0m     total_loss\u001b[38;5;241m.\u001b[39mappend(loss\u001b[38;5;241m.\u001b[39mitem())\n\u001b[0;32m     20\u001b[0m     \u001b[38;5;66;03m#batch_count+=batch\u001b[39;00m\n\u001b[0;32m     21\u001b[0m     \u001b[38;5;66;03m#correct += (pred.argmax(1)==Y).type(torch.float).sum().item()\u001b[39;00m\n\u001b[0;32m     22\u001b[0m \n\u001b[0;32m     23\u001b[0m \u001b[38;5;66;03m#print(correct, size)\u001b[39;00m\n",
      "\u001b[1;31mKeyboardInterrupt\u001b[0m: "
     ]
    }
   ],
   "source": [
    "target_epochs=200\n",
    "loss_train_tr, loss_test_tr=[],[]\n",
    "for t in tqdm(range(target_epochs)):\n",
    "    print(f'Epoch {t+1}\\n-------------------------------')\n",
    "    print(\"+++++++++Target Training Starting+++++++++\")\n",
    "    tr_loss, result_train=target_train(train_loader, target_model, optimiser)\n",
    "    loss_train_tr.append(tr_loss)\n",
    "    # print('Test Accuracy: ', target_utility(test_loader, target_model, batch_size = batch_size))\n",
    "    if t % 10 == 0: \n",
    "        send_email(\n",
    "        f'CNN Training update after {t+1} epochs',\n",
    "        f'''\n",
    "            Train loss: {tr_loss}\n",
    "            Train accuracy: {result_train}\n",
    "            Test accuracy: {target_utility(test_loader, target_model, batch_size=batch_size)}\n",
    "            '''\n",
    "        )\n"
   ]
  },
  {
   "cell_type": "code",
   "execution_count": 46,
   "metadata": {
    "colab": {
     "base_uri": "https://localhost:8080/"
    },
    "id": "lcqfrO5COQCe",
    "outputId": "4b56e2b5-2ea9-4c05-a5f3-8e49d7e3e7a9"
   },
   "outputs": [
    {
     "name": "stdout",
     "output_type": "stream",
     "text": [
      "+++++++++Target Test+++++++++\n"
     ]
    },
    {
     "name": "stderr",
     "output_type": "stream",
     "text": [
      "100%|██████████| 79/79 [07:04<00:00,  5.37s/it]"
     ]
    },
    {
     "name": "stdout",
     "output_type": "stream",
     "text": [
      "Target Model Accuracy = 5729 / 10000 = 0.5729\n",
      "Test Acc: 0.5729\n"
     ]
    },
    {
     "name": "stderr",
     "output_type": "stream",
     "text": [
      "\n"
     ]
    }
   ],
   "source": [
    "print(\"+++++++++Target Test+++++++++\")\n",
    "\n",
    "final_acc=target_utility(test_loader, target_model, batch_size = batch_size)\n",
    "\n",
    "print(f\"Test Acc: {final_acc}\")                                                                                                                                                                                                                                                                                                                                                                                                                                                                                                                                                                                                                                                                                                                                                                                                                                                                                                                                                                                                                                                                                                                                                                                                                                                                                                                                                                                                                                                                                                                                                                                                                                                                                                                                                                                                                                                                                                                                                                                                                                                                                                                                                                                                                                                                                                                                                                                                                                                                                                                                                                                                                                                                                                                                                                                                                                                                                                                                                                                                                                                                                                                                                                                                                                                                                                                                                                                                                                                                                                                                                                                                                                                                                                                                                                                                                                                                                                                                                                                                                                                                                                                                                                                                                                                                                                                                                                                                                                                                                                                                                                                                                                                                                                                                                                                                                                                                                                                                                                                                                                                                                                                                                                                                                                                                                                                                                                                                                                                                                                                                                                                                                                                                                                                                                                                                                                                                                                                                                                                                                                                                                                                                                                                                                                                                                                                                                                                                                                                                                                                                                                                                                                                                                                                                                                                                                                                                                                                                                                                                                                                                                                                                                                                                                                                                                                                                                                                                                                                                                                                                                                                                                                                                                                                                                                                                                                                                                                                                                                                                                                                                                                                                                                                                                                                                                                                                                                                                                                                                                                                                                                                                                                                                                                                                                                                                                                                                                                                                                                                                                                                                                                                                                                                                                                                                                                                                                                                                                                                                                                                                                                                                                                                                                                                                                                                                                                                                                                                                                                                                                                                                                                                                                                                                                                                                                                                                                                                                                                                                                                                                                                                                                                                                                                                                                                                                                                                                                                                                                                                                                                                                                                                                                                                                                                                                                                                                                                                                                                                                                                                                                                                                                                                                                                                                                                                                                                                                                                                                                                                                                                                                                                                                                                                                                                                                                                                                                                                                                                                                                                                                                                                                                                                                                                                                                                                                                                                                                                                                                                                                                                                                                                                                                                                                                                                                                                                                                                                                                                                                                                                                                                                                                                                                                                                                                                                                                                                                                                                                                                                                                                                                                                                                                                                                                                                                                                                                                                                                                                                                                                                                                                                                                                                                                                                                                                                                                                                                                                                                                                                                                                                                                                                                                                                                                                                                                                                                                                                                                                                                                                                                                                                                                                                                                                                                                                                                                                                                                                                                                                                                                                                                                                                                                                                                                                                                                                                                                                                                                                                                                                                                                                                                                                                                                                                                                                                                                                                                                                                                                                                                                                                                                                                                                                                                                                                                                                                                                                                                                                                                                                                                                                                                                                                                                                                                                                                                                                                                                                                                                                                                                                                                                                                                                                                                                                                                                                                                                                                                                                                                                                                                                                                                                                                                                                                                                                                                                                                                                                                                                                                                                                                                                                                                                                                                                                                                                                                                                                                                                                                                                                                                                                                                                                                                                                                               "
   ]
  },
  {
   "cell_type": "code",
   "execution_count": null,
   "metadata": {
    "id": "DszfvyxSiE4i"
   },
   "outputs": [],
   "source": []
  },
  {
   "cell_type": "code",
   "execution_count": null,
   "metadata": {
    "id": "SOhCs2ijiE7_"
   },
   "outputs": [],
   "source": []
  }
 ],
 "metadata": {
  "accelerator": "GPU",
  "colab": {
   "gpuType": "T4",
   "machine_shape": "hm",
   "provenance": []
  },
  "kernelspec": {
   "display_name": "Python 3 (ipykernel)",
   "language": "python",
   "name": "python3"
  },
  "language_info": {
   "codemirror_mode": {
    "name": "ipython",
    "version": 3
   },
   "file_extension": ".py",
   "mimetype": "text/x-python",
   "name": "python",
   "nbconvert_exporter": "python",
   "pygments_lexer": "ipython3",
   "version": "3.11.9"
  }
 },
 "nbformat": 4,
 "nbformat_minor": 4
}
